{
 "cells": [
  {
   "cell_type": "code",
   "execution_count": 1,
   "id": "0cc49e73-94a7-4c26-b05d-8e4ccf8f42ad",
   "metadata": {},
   "outputs": [
    {
     "name": "stdout",
     "output_type": "stream",
     "text": [
      "\n",
      "\u001b[1m[\u001b[0m\u001b[34;49mnotice\u001b[0m\u001b[1;39;49m]\u001b[0m\u001b[39;49m A new release of pip is available: \u001b[0m\u001b[31;49m24.0\u001b[0m\u001b[39;49m -> \u001b[0m\u001b[32;49m24.2\u001b[0m\n",
      "\u001b[1m[\u001b[0m\u001b[34;49mnotice\u001b[0m\u001b[1;39;49m]\u001b[0m\u001b[39;49m To update, run: \u001b[0m\u001b[32;49mpip install --upgrade pip\u001b[0m\n"
     ]
    }
   ],
   "source": [
    "!pip install scikit-learn pandas opendatasets matplotlib plotly seaborn numpy --quiet"
   ]
  },
  {
   "cell_type": "code",
   "execution_count": 2,
   "id": "e0486032-d8cf-481a-bc7d-fbd2259d1666",
   "metadata": {},
   "outputs": [
    {
     "data": {
      "text/plain": [
       "<Figure size 8000x2000 with 0 Axes>"
      ]
     },
     "execution_count": 2,
     "metadata": {},
     "output_type": "execute_result"
    },
    {
     "data": {
      "text/plain": [
       "<Figure size 8000x2000 with 0 Axes>"
      ]
     },
     "metadata": {},
     "output_type": "display_data"
    }
   ],
   "source": [
    "import os\n",
    "import pandas as pd\n",
    "import opendatasets as od\n",
    "import plotly.express as px\n",
    "import matplotlib\n",
    "import matplotlib.pyplot as plt\n",
    "import seaborn as sns\n",
    "import numpy as np\n",
    "from sklearn.preprocessing import LabelEncoder, OneHotEncoder, MinMaxScaler\n",
    "from sklearn.linear_model import LinearRegression, Ridge, Lasso, ElasticNet, SGDRegressor\n",
    "from sklearn.tree import DecisionTreeRegressor, plot_tree\n",
    "from sklearn.ensemble import RandomForestRegressor\n",
    "from sklearn.impute import SimpleImputer\n",
    "from sklearn.metrics import root_mean_squared_error, accuracy_score\n",
    "\n",
    "%matplotlib inline\n",
    "\n",
    "sns.set_style('darkgrid')\n",
    "matplotlib.rcParams['font.size'] = 14\n",
    "matplotlib.rcParams['figure.figsize'] = (10,6)\n",
    "matplotlib.rcParams['figure.facecolor'] = '#00000000'\n",
    "plt.figure(figsize=(80,20))\n"
   ]
  },
  {
   "cell_type": "code",
   "execution_count": 3,
   "id": "efb9d088-a952-4bb6-abf5-3e076d59c38d",
   "metadata": {},
   "outputs": [
    {
     "name": "stdout",
     "output_type": "stream",
     "text": [
      "Downloading rossmann-store-sales.zip to ./rossmann-store-sales\n"
     ]
    },
    {
     "name": "stderr",
     "output_type": "stream",
     "text": [
      "100%|██████████| 6.99M/6.99M [00:00<00:00, 23.3MB/s]\n"
     ]
    },
    {
     "name": "stdout",
     "output_type": "stream",
     "text": [
      "\n",
      "Extracting archive ./rossmann-store-sales/rossmann-store-sales.zip to ./rossmann-store-sales\n"
     ]
    }
   ],
   "source": [
    "# Download latest version\n",
    "path = od.download(\"https://www.kaggle.com/c/rossmann-store-sales\")"
   ]
  },
  {
   "cell_type": "code",
   "execution_count": 4,
   "id": "9decb383-5cd9-492f-aac2-a31e80629d06",
   "metadata": {},
   "outputs": [
    {
     "data": {
      "text/plain": [
       "['test.csv', 'train.csv', 'sample_submission.csv', 'store.csv']"
      ]
     },
     "execution_count": 4,
     "metadata": {},
     "output_type": "execute_result"
    }
   ],
   "source": [
    "os.listdir('rossmann-store-sales')"
   ]
  },
  {
   "cell_type": "code",
   "execution_count": 5,
   "id": "44d386a7-8ed8-4dd6-872f-c6571301202d",
   "metadata": {},
   "outputs": [],
   "source": [
    "ross_df = pd.read_csv('./rossmann-store-sales/train.csv', low_memory=False)"
   ]
  },
  {
   "cell_type": "code",
   "execution_count": 6,
   "id": "0df66da4-0f91-40b4-9cbb-95f5550550b9",
   "metadata": {},
   "outputs": [],
   "source": [
    "store_df = pd.read_csv('./rossmann-store-sales/store.csv')"
   ]
  },
  {
   "cell_type": "code",
   "execution_count": 7,
   "id": "dcda6743-67d9-4c3a-813b-3e6d849dc6a7",
   "metadata": {},
   "outputs": [],
   "source": [
    "merged_df = ross_df.merge(store_df, how='left', on='Store')"
   ]
  },
  {
   "cell_type": "code",
   "execution_count": 31,
   "id": "aa1caffa-a298-441e-81fb-6cb13961eabb",
   "metadata": {},
   "outputs": [],
   "source": [
    "test_df = pd.read_csv('./rossmann-store-sales/test.csv')"
   ]
  },
  {
   "cell_type": "code",
   "execution_count": 32,
   "id": "b319ca31-5aaf-461b-8584-1b13e616e61e",
   "metadata": {},
   "outputs": [],
   "source": [
    "merged_test_df = test_df.merge(store_df, how='left', on='Store')"
   ]
  },
  {
   "cell_type": "code",
   "execution_count": null,
   "id": "163c7520-386d-4166-8fbc-9dde9be8dfb9",
   "metadata": {},
   "outputs": [],
   "source": [
    "round(merged_df.describe().T,2)"
   ]
  },
  {
   "cell_type": "code",
   "execution_count": null,
   "id": "c7f162ef-e3fc-46e1-8282-62fb8dce2015",
   "metadata": {},
   "outputs": [],
   "source": [
    "#check for duplicate\n",
    "merged_df.duplicated().sum()"
   ]
  },
  {
   "cell_type": "code",
   "execution_count": null,
   "id": "540c31fb-3c1f-4875-8022-c6f0c7cccf52",
   "metadata": {},
   "outputs": [],
   "source": [
    "merged_df.isna().sum()"
   ]
  },
  {
   "cell_type": "code",
   "execution_count": null,
   "id": "f8d277f6-024c-4af5-85e4-89c9c29e3775",
   "metadata": {},
   "outputs": [],
   "source": [
    "merged_df.StateHoliday.value_counts()"
   ]
  },
  {
   "cell_type": "code",
   "execution_count": null,
   "id": "6a63bd5a-4aa0-47cf-8b62-f2d51cf1d028",
   "metadata": {},
   "outputs": [],
   "source": [
    "sns.histplot(data=merged_df, x='Sales')"
   ]
  },
  {
   "cell_type": "code",
   "execution_count": null,
   "id": "132f33d0-13d8-49e6-8d1d-49dea56aced2",
   "metadata": {},
   "outputs": [],
   "source": [
    "# in this exercise we want to keep the data when they close\n",
    "merged_df.Open.value_counts()"
   ]
  },
  {
   "cell_type": "code",
   "execution_count": null,
   "id": "4c391cdb-b62c-4d50-869a-e5ffbf3a37a3",
   "metadata": {},
   "outputs": [],
   "source": [
    "# keeping Open = 0 is generating a big 0 predictions\n",
    "merged_df = merged_df.loc[merged_df['Open'] == 1]\n",
    "# change Date to timestamp\n",
    "merged_df['Date'] = pd.to_datetime(merged_df.Date)"
   ]
  },
  {
   "cell_type": "code",
   "execution_count": null,
   "id": "17fa257b-e56d-4e66-a670-10a35323e502",
   "metadata": {},
   "outputs": [],
   "source": [
    "sns.histplot(data=merged_df, x='Sales')"
   ]
  },
  {
   "cell_type": "code",
   "execution_count": null,
   "id": "ae48aa35-bf65-421f-830c-deabe1004d8f",
   "metadata": {},
   "outputs": [],
   "source": [
    "sns.barplot(data=merged_df, x='DayOfWeek', y='Sales')"
   ]
  },
  {
   "cell_type": "code",
   "execution_count": null,
   "id": "75b74e3c-9cee-4f1b-956c-52b2bb7df924",
   "metadata": {},
   "outputs": [],
   "source": [
    "sns.barplot(data=merged_df, x='Promo', y='Sales')"
   ]
  },
  {
   "cell_type": "code",
   "execution_count": null,
   "id": "fd96732f-0207-4921-8ccc-151404a3f67d",
   "metadata": {},
   "outputs": [],
   "source": [
    "merged_df.select_dtypes(include=np.number).corr()['Sales'].sort_values(ascending=False)"
   ]
  },
  {
   "cell_type": "code",
   "execution_count": null,
   "id": "f266723a-3986-4935-8244-34aac1731a0b",
   "metadata": {},
   "outputs": [],
   "source": [
    "scatter_sample_df = merged_df.sample(40000)\n",
    "sns.scatterplot(x=scatter_sample_df.Sales, y=scatter_sample_df.Customers, hue=scatter_sample_df.Date.dt.year, alpha=0.8)\n",
    "plt.title('Sales vs Customers')\n",
    "plt.show()"
   ]
  },
  {
   "cell_type": "code",
   "execution_count": 10,
   "id": "fde0cb9a-0a90-4613-913e-2e87d0d37510",
   "metadata": {},
   "outputs": [],
   "source": [
    "def prep_train_df(merged_df):\n",
    "    # feature engineering, split date to day, month, and year\n",
    "    merged_df['Date'] = pd.to_datetime(merged_df.Date)\n",
    "    merged_df['Day'] = merged_df.Date.dt.day\n",
    "    merged_df['Month'] = merged_df.Date.dt.month\n",
    "    merged_df['Year'] = merged_df.Date.dt.year\n",
    "\n",
    "    # drop Customers since its not in the test data\n",
    "    merged_df = merged_df.drop(['Customers'], axis=1)\n",
    "\n",
    "    # set aside data for validation\n",
    "    # with this method we get 0.18 error\n",
    "    train_size = int(.75 * len(merged_df))\n",
    "    train_df, val_df = merged_df[:train_size], merged_df[train_size:]  \n",
    "\n",
    "    # with this method we get 0.35 error\n",
    "    # train_df, val_df = merged_df[merged_df.Date.dt.year <= 2014], merged_df[merged_df.Date.dt.year == 2015]\n",
    "\n",
    "    # set the targets\n",
    "    train_targets, val_targets = train_df['Sales'], val_df['Sales']\n",
    "    \n",
    "    # drop Sales since its the targets\n",
    "    train_df, val_df = train_df.drop(['Sales'], axis=1), val_df.drop(['Sales'], axis=1)                 \n",
    "\n",
    "    # drop column with large missing data\n",
    "    # n_large_missing_data = [\n",
    "    #     'Open','Promo2SinceWeek','Promo2SinceYear','CompetitionDistance',\n",
    "    #     'CompetitionOpenSinceMonth','CompetitionOpenSinceYear'\n",
    "    # ]\n",
    "    # c_large_missing_data = ['PromoInterval','Assortment']\n",
    "    n_large_missing_data = []\n",
    "    c_large_missing_data = []\n",
    "    numeric_cols = list(filter(\n",
    "        lambda x: x not in n_large_missing_data, \n",
    "        train_df.select_dtypes(include=np.number).columns.tolist()\n",
    "    ))\n",
    "    categorical_cols = list(filter(\n",
    "        lambda x: x not in c_large_missing_data, \n",
    "        train_df.select_dtypes('object').columns.tolist()\n",
    "    ))\n",
    "\n",
    "    return train_df, val_df, train_targets, val_targets, numeric_cols, categorical_cols"
   ]
  },
  {
   "cell_type": "code",
   "execution_count": 11,
   "id": "f841b337-ac1b-4e61-a0bd-031873171add",
   "metadata": {},
   "outputs": [],
   "source": [
    "train_df, val_df, train_targets, val_targets, numeric_cols, categorical_cols = prep_train_df(merged_df)"
   ]
  },
  {
   "cell_type": "code",
   "execution_count": null,
   "id": "f51c0716-08f5-4c72-a4a9-c7c622a1c9a5",
   "metadata": {},
   "outputs": [],
   "source": [
    "sns.barplot(data=merged_df, x='Year', y='Sales')"
   ]
  },
  {
   "cell_type": "code",
   "execution_count": null,
   "id": "e876441d-b875-4c47-9ad4-381f7974b635",
   "metadata": {},
   "outputs": [],
   "source": [
    "sns.barplot(data=merged_df, x='Month', y='Sales')"
   ]
  },
  {
   "cell_type": "code",
   "execution_count": null,
   "id": "e1e7506b-e5dd-4aee-8de0-5de19b5ae9c9",
   "metadata": {},
   "outputs": [],
   "source": [
    "sns.barplot(data=merged_df, x='Day', y='Sales')"
   ]
  },
  {
   "cell_type": "code",
   "execution_count": null,
   "id": "b62e4b98-568d-4729-99a2-55ce3aced51c",
   "metadata": {},
   "outputs": [],
   "source": [
    "merged_df.isna().sum()"
   ]
  },
  {
   "cell_type": "code",
   "execution_count": null,
   "id": "c3f9bfe7-b754-41e0-a2dd-8b64fc7ae06c",
   "metadata": {},
   "outputs": [],
   "source": [
    "numeric_cols"
   ]
  },
  {
   "cell_type": "code",
   "execution_count": null,
   "id": "c7937203-da34-4b37-a3d6-b7832d7e2da9",
   "metadata": {},
   "outputs": [],
   "source": [
    "categorical_cols"
   ]
  },
  {
   "cell_type": "code",
   "execution_count": null,
   "id": "0a118154-d1f5-40cb-a461-dd1b637e2543",
   "metadata": {},
   "outputs": [],
   "source": [
    "train_df, val_df, train_targets, val_targets, numeric_cols, categorical_cols = prep_train_df(merged_df)"
   ]
  },
  {
   "cell_type": "code",
   "execution_count": 12,
   "id": "c0cd02aa-689c-4012-a1df-373e03dbc3c9",
   "metadata": {},
   "outputs": [],
   "source": [
    "def enrich_train_df(train_df,val_df):\n",
    "    # turn categorical features to numeric\n",
    "    encoder = OneHotEncoder(handle_unknown='ignore',sparse_output=False)\n",
    "    encoder.fit(train_df[categorical_cols])\n",
    "\n",
    "    encoded_cols = list(encoder.get_feature_names_out(categorical_cols))\n",
    "\n",
    "    train_df[encoded_cols] = encoder.transform(train_df[categorical_cols])\n",
    "    val_df[encoded_cols] = encoder.transform(val_df[categorical_cols])\n",
    "\n",
    "    train_df = train_df[numeric_cols + encoded_cols]\n",
    "    val_df = val_df[numeric_cols + encoded_cols]\n",
    "\n",
    "    # fill missing data with imputation\n",
    "    imputer = SimpleImputer(strategy = 'mean')\n",
    "    imputer.fit(train_df)\n",
    "    train_df = imputer.transform(train_df)\n",
    "    imputer.fit(val_df)\n",
    "    val_df = imputer.transform(val_df)\n",
    "    \n",
    "    #scale the values\n",
    "    scaler = MinMaxScaler()  \n",
    "    scaler.fit(train_df)\n",
    "    train_df = scaler.transform(train_df)\n",
    "    scaler.fit(val_df)\n",
    "    val_df = scaler.transform(val_df)\n",
    "\n",
    "    return train_df, val_df"
   ]
  },
  {
   "cell_type": "code",
   "execution_count": 13,
   "id": "5887bcd2-40e9-4a7e-ba24-823f408f3ec3",
   "metadata": {},
   "outputs": [],
   "source": [
    "train_df, val_df = enrich_train_df(train_df, val_df)"
   ]
  },
  {
   "cell_type": "code",
   "execution_count": null,
   "id": "d17e59db-5553-43c7-a0e8-29d4ba920409",
   "metadata": {},
   "outputs": [],
   "source": [
    "# setup benchmark with simple models\n",
    "def return_mean(inputs):\n",
    "    return np.full(len(inputs), merged_df.Sales.mean())"
   ]
  },
  {
   "cell_type": "code",
   "execution_count": null,
   "id": "76715cee-5507-4751-8e96-97dfd7c85015",
   "metadata": {},
   "outputs": [],
   "source": [
    "train_preds = return_mean(train_df)"
   ]
  },
  {
   "cell_type": "code",
   "execution_count": null,
   "id": "3f3ca64b-4378-4101-9bdc-052661c6651a",
   "metadata": {},
   "outputs": [],
   "source": [
    "train_preds"
   ]
  },
  {
   "cell_type": "code",
   "execution_count": null,
   "id": "59e73438-6bfa-44a4-8fcd-ce9a45f93499",
   "metadata": {},
   "outputs": [],
   "source": [
    "root_mean_squared_error(train_preds, train_targets)"
   ]
  },
  {
   "cell_type": "code",
   "execution_count": null,
   "id": "38892f71-c0f3-4bc5-a312-4802dc49d34a",
   "metadata": {},
   "outputs": [],
   "source": [
    "def guess_random(inputs):\n",
    "    lo, hi = merged_df.Sales.min(), merged_df.Sales.max()\n",
    "    return np.random.random(len(inputs)) * (hi - lo) + lo"
   ]
  },
  {
   "cell_type": "code",
   "execution_count": null,
   "id": "73a07d34-6415-415f-b068-16b4aa3970f5",
   "metadata": {},
   "outputs": [],
   "source": [
    "train_preds = guess_random(train_df)"
   ]
  },
  {
   "cell_type": "code",
   "execution_count": null,
   "id": "9c4719c3-b07b-4928-94bb-5ba27535b4ea",
   "metadata": {},
   "outputs": [],
   "source": [
    "train_preds"
   ]
  },
  {
   "cell_type": "code",
   "execution_count": null,
   "id": "42dc01e2-14ec-41de-9239-77ce0ee777f1",
   "metadata": {},
   "outputs": [],
   "source": [
    "root_mean_squared_error(train_preds, train_targets)"
   ]
  },
  {
   "cell_type": "code",
   "execution_count": null,
   "id": "c3005346-866e-437d-8e30-dd3bb2bd29f7",
   "metadata": {},
   "outputs": [],
   "source": [
    "# baseline ML model\n",
    "linreg = LinearRegression()\n",
    "\n",
    "linreg.fit(train_df, train_targets)"
   ]
  },
  {
   "cell_type": "code",
   "execution_count": null,
   "id": "dd1f41a9-cbaa-434f-ab80-d22799d1a3d6",
   "metadata": {},
   "outputs": [],
   "source": [
    "linreg.score(train_df, train_targets)"
   ]
  },
  {
   "cell_type": "code",
   "execution_count": null,
   "id": "bbc1d3ae-9170-482c-95c3-b39a2c264d1d",
   "metadata": {},
   "outputs": [],
   "source": [
    "train_preds = linreg.predict(train_df)"
   ]
  },
  {
   "cell_type": "code",
   "execution_count": null,
   "id": "966e57c0-8333-48c4-beea-96fc5f90f566",
   "metadata": {},
   "outputs": [],
   "source": [
    "train_preds"
   ]
  },
  {
   "cell_type": "code",
   "execution_count": null,
   "id": "d81bff2c-12b0-4df0-9ffa-d2c039e1676f",
   "metadata": {},
   "outputs": [],
   "source": [
    "root_mean_squared_error(train_preds, train_targets)"
   ]
  },
  {
   "cell_type": "code",
   "execution_count": null,
   "id": "29c1a850-576a-4559-96b4-b120b1723dda",
   "metadata": {},
   "outputs": [],
   "source": [
    "def try_model(model, train_df, train_targets, val_df, val_targets):\n",
    "    model.fit(train_df, train_targets)\n",
    "\n",
    "    print(type(model).__name__ + ' train error: {}'.format(1 - model.score(train_df, train_targets)))\n",
    "    \n",
    "    train_preds = model.predict(train_df)\n",
    "\n",
    "    print(type(model).__name__ + ' train - rmse: {}'.format(root_mean_squared_error(train_preds, train_targets)))\n",
    "    \n",
    "    print(type(model).__name__ + ' val error: {}'.format(1 - model.score(val_df, val_targets)))\n",
    "\n",
    "    val_preds = model.predict(val_df)\n",
    "    \n",
    "    print(type(model).__name__ + ' val - rmse: {}'.format(root_mean_squared_error(val_preds, val_targets)))"
   ]
  },
  {
   "cell_type": "code",
   "execution_count": null,
   "id": "a9a2eac7-5475-47ee-8e8e-c5bf1343eb97",
   "metadata": {},
   "outputs": [],
   "source": [
    "for mdl in [LinearRegression(), Ridge(), Lasso(), ElasticNet(), SGDRegressor()]:\n",
    "    try_model(mdl, train_df, train_targets, val_df, val_targets)"
   ]
  },
  {
   "cell_type": "code",
   "execution_count": null,
   "id": "9a1468a3-c5f3-4ebb-80f2-e6aeae0fcb5f",
   "metadata": {},
   "outputs": [],
   "source": [
    "try_model(DecisionTreeRegressor(random_state=42), train_df, train_targets, val_df, val_targets)"
   ]
  },
  {
   "cell_type": "code",
   "execution_count": null,
   "id": "04644ae4-4ab5-4e8d-a77a-2ba1bf909f0e",
   "metadata": {},
   "outputs": [],
   "source": [
    "try_model(RandomForestRegressor(random_state=42, n_jobs=-1), train_df, train_targets, val_df, val_targets)\n",
    "# try_model(RandomForestRegressor(random_state=42, n_jobs=-1, n_estimators=20), train_df, train_targets, val_df, val_targets)"
   ]
  },
  {
   "cell_type": "code",
   "execution_count": null,
   "id": "f9572a45-b863-4405-b20f-cd7d9b134cd4",
   "metadata": {},
   "outputs": [],
   "source": [
    "def test_rf_params(param_name, param_value, train_df, train_targets, val_df, val_targets):\n",
    "    params = {param_name :param_value}\n",
    "    model = RandomForestRegressor(random_state=42, n_jobs=-1, **params)\n",
    "    model.fit(train_df, train_targets)\n",
    "    train_acc = 1 - model.score(train_df, train_targets)\n",
    "    val_acc = 1 - model.score(val_df, val_targets)\n",
    "    print('Param Name: {param_name},Param Value: {param_value},Training Error: {train_acc},Validation Error: {val_acc}'.format(\n",
    "        param_name=param_name, param_value=param_value, train_acc=train_acc, val_acc=val_acc\n",
    "    ))\n",
    "    return {'Param Name' : param_name, 'Param Value' : param_value, 'Training Error': train_acc, 'Validation Error': val_acc}"
   ]
  },
  {
   "cell_type": "code",
   "execution_count": null,
   "id": "6fa9d6fc-1b1f-4484-bf03-05308bba5581",
   "metadata": {},
   "outputs": [],
   "source": [
    "%%time\n",
    "# params = [{'name': 'n_estimators','value':val} for val in range(16,60,2)]\n",
    "params = [{'name': 'n_estimators','value':val} for val in [100]]\n",
    "errors_df = pd.DataFrame(\n",
    "    [\n",
    "        test_rf_params(param['name'], param['value'], train_df, train_targets, val_df, val_targets) \n",
    "        for param in params\n",
    "    ]\n",
    ")"
   ]
  },
  {
   "cell_type": "code",
   "execution_count": null,
   "id": "3801c023-a485-4edc-b451-a73f12bb651d",
   "metadata": {},
   "outputs": [],
   "source": [
    "errors_df"
   ]
  },
  {
   "cell_type": "code",
   "execution_count": 51,
   "id": "8ff839f8-0548-40b5-b14c-3159b6159d3d",
   "metadata": {},
   "outputs": [
    {
     "name": "stdout",
     "output_type": "stream",
     "text": [
      "train acc: 0.07182946087154718\n",
      "train - rmse: 1042.5320261725647\n",
      "val acc: 0.13022913341589126\n",
      "val - rmse: 1342.6220145503798\n"
     ]
    }
   ],
   "source": [
    "# single model testing\n",
    "model = RandomForestRegressor(\n",
    "    random_state=42, \n",
    "    n_jobs=-1,\n",
    "    n_estimators=76,\n",
    "    max_depth=22,\n",
    "    max_features=4,\n",
    "    max_samples=600020\n",
    ")\n",
    "\n",
    "model.fit(train_df, train_targets)\n",
    "\n",
    "print('train acc: {}'.format(1 - model.score(train_df, train_targets)))\n",
    "    \n",
    "train_preds = model.predict(train_df)\n",
    "\n",
    "print('train - rmse: {}'.format(root_mean_squared_error(train_preds, train_targets)))\n",
    "    \n",
    "print('val acc: {}'.format(1 - model.score(val_df, val_targets)))\n",
    "\n",
    "val_preds = model.predict(val_df)\n",
    "    \n",
    "print('val - rmse: {}'.format(root_mean_squared_error(val_preds, val_targets)))"
   ]
  },
  {
   "cell_type": "code",
   "execution_count": 33,
   "id": "b7db97f9-0866-40dd-9c21-aff4da382eff",
   "metadata": {},
   "outputs": [],
   "source": [
    "def prep_test_df(merged_test_df):\n",
    "    # feature engineering, split date to day, month, and year\n",
    "    submit_test_df = merged_test_df.copy()\n",
    "    submit_test_df['Date'] = pd.to_datetime(submit_test_df.Date)\n",
    "    submit_test_df['Day'] = submit_test_df.Date.dt.day\n",
    "    submit_test_df['Month'] = submit_test_df.Date.dt.month\n",
    "    submit_test_df['Year'] = submit_test_df.Date.dt.year\n",
    "\n",
    "    # drop column with large missing data\n",
    "    # n_large_missing_data = [\n",
    "    #     'Open','Promo2SinceWeek','Promo2SinceYear','CompetitionDistance',\n",
    "    #     'CompetitionOpenSinceMonth','CompetitionOpenSinceYear'\n",
    "    # ]\n",
    "    # c_large_missing_data = ['PromoInterval','Assortment']\n",
    "    n_large_missing_data = ['Id']\n",
    "    c_large_missing_data = []\n",
    "    numeric_cols = list(filter(\n",
    "        lambda x: x not in n_large_missing_data, \n",
    "        submit_test_df.select_dtypes(include=np.number).columns.tolist()\n",
    "    ))\n",
    "    categorical_cols = list(filter(\n",
    "        lambda x: x not in c_large_missing_data, \n",
    "        submit_test_df.select_dtypes('object').columns.tolist()\n",
    "    ))\n",
    "    \n",
    "    return submit_test_df, numeric_cols, categorical_cols"
   ]
  },
  {
   "cell_type": "code",
   "execution_count": 34,
   "id": "b4ff029d-c651-4fad-821d-95ee93449b2b",
   "metadata": {},
   "outputs": [],
   "source": [
    "submit_test_df, numeric_cols, categorical_cols = prep_test_df(merged_test_df)"
   ]
  },
  {
   "cell_type": "code",
   "execution_count": null,
   "id": "1dc6e803-8f62-4afe-8981-dad26586e352",
   "metadata": {},
   "outputs": [],
   "source": [
    "numeric_cols"
   ]
  },
  {
   "cell_type": "code",
   "execution_count": null,
   "id": "7603c78d-6c57-4fda-9b9d-b829ad9f65da",
   "metadata": {},
   "outputs": [],
   "source": [
    "categorical_cols"
   ]
  },
  {
   "cell_type": "code",
   "execution_count": null,
   "id": "a2a37caf-9eb5-4cb0-9051-e8810f19b62e",
   "metadata": {},
   "outputs": [],
   "source": [
    "merged_test_df.isna().sum()"
   ]
  },
  {
   "cell_type": "code",
   "execution_count": null,
   "id": "9c47e798-d5d5-40cc-8974-e17e80e09221",
   "metadata": {},
   "outputs": [],
   "source": [
    "# test has only 0 and a, so just edit the file to change the first couple with b and c\n",
    "submit_test_df.StateHoliday.value_counts()"
   ]
  },
  {
   "cell_type": "code",
   "execution_count": null,
   "id": "45622b2e-4fd5-446a-b34b-6a83eb4627d9",
   "metadata": {},
   "outputs": [],
   "source": [
    "submit_test_df.isna().sum()"
   ]
  },
  {
   "cell_type": "code",
   "execution_count": 35,
   "id": "42185d32-3658-45b2-9704-205c3657f510",
   "metadata": {},
   "outputs": [],
   "source": [
    "def enrich_test_df(submit_test_df):\n",
    "    # turn categorical features to numeric\n",
    "    encoder = OneHotEncoder(handle_unknown='ignore',sparse_output=False)\n",
    "    encoder.fit(submit_test_df[categorical_cols])\n",
    "\n",
    "    encoded_cols = list(encoder.get_feature_names_out(categorical_cols))\n",
    "\n",
    "    submit_test_df[encoded_cols] = encoder.transform(submit_test_df[categorical_cols])\n",
    "    \n",
    "    submit_test_df = submit_test_df[numeric_cols + encoded_cols]\n",
    "\n",
    "    # fill missing data with imputation\n",
    "    imputer = SimpleImputer(strategy = 'mean')\n",
    "    imputer.fit(submit_test_df)\n",
    "    submit_test_df = imputer.transform(submit_test_df)\n",
    "    \n",
    "    #scale the values\n",
    "    scaler = MinMaxScaler()  \n",
    "    scaler.fit(submit_test_df)\n",
    "    submit_test_df = scaler.transform(submit_test_df)\n",
    "\n",
    "    return submit_test_df"
   ]
  },
  {
   "cell_type": "code",
   "execution_count": 36,
   "id": "5688f3cb-aab0-4c95-9aa3-d8c12cabe6ed",
   "metadata": {},
   "outputs": [],
   "source": [
    "X_inputs = enrich_test_df(submit_test_df)"
   ]
  },
  {
   "cell_type": "code",
   "execution_count": 37,
   "id": "327ff521-bd0b-416a-b17c-ea13897f3f58",
   "metadata": {},
   "outputs": [
    {
     "data": {
      "text/plain": [
       "array([ 6215.69254539,  7058.59164975, 11983.39415803, ...,\n",
       "        5492.33162157, 18784.05591063,  5905.16567254])"
      ]
     },
     "execution_count": 37,
     "metadata": {},
     "output_type": "execute_result"
    }
   ],
   "source": [
    "test_preds = model.predict(X_inputs)\n",
    "test_preds"
   ]
  },
  {
   "cell_type": "code",
   "execution_count": 38,
   "id": "6763a940-f98d-4575-b419-dc845a30e316",
   "metadata": {},
   "outputs": [],
   "source": [
    "test_preds_df = pd.DataFrame(test_preds, columns=['Sales'])"
   ]
  },
  {
   "cell_type": "code",
   "execution_count": 39,
   "id": "b259319d-d708-40b1-9edc-ee8de4ebb7cc",
   "metadata": {},
   "outputs": [
    {
     "name": "stdout",
     "output_type": "stream",
     "text": [
      "<class 'pandas.core.frame.DataFrame'>\n",
      "RangeIndex: 41088 entries, 0 to 41087\n",
      "Data columns (total 1 columns):\n",
      " #   Column  Non-Null Count  Dtype  \n",
      "---  ------  --------------  -----  \n",
      " 0   Sales   41088 non-null  float64\n",
      "dtypes: float64(1)\n",
      "memory usage: 321.1 KB\n"
     ]
    }
   ],
   "source": [
    "test_preds_df.info()"
   ]
  },
  {
   "cell_type": "code",
   "execution_count": 40,
   "id": "7da0b560-b3be-4d4d-8738-89412142171d",
   "metadata": {},
   "outputs": [],
   "source": [
    "merged_test_df['Sales'] = test_preds_df['Sales']"
   ]
  },
  {
   "cell_type": "code",
   "execution_count": 41,
   "id": "6cb4a694-8ba3-4cfa-aea0-49b5d5340aed",
   "metadata": {},
   "outputs": [
    {
     "name": "stdout",
     "output_type": "stream",
     "text": [
      "<class 'pandas.core.frame.DataFrame'>\n",
      "RangeIndex: 41088 entries, 0 to 41087\n",
      "Data columns (total 18 columns):\n",
      " #   Column                     Non-Null Count  Dtype  \n",
      "---  ------                     --------------  -----  \n",
      " 0   Id                         41088 non-null  int64  \n",
      " 1   Store                      41088 non-null  int64  \n",
      " 2   DayOfWeek                  41088 non-null  int64  \n",
      " 3   Date                       41088 non-null  object \n",
      " 4   Open                       41077 non-null  float64\n",
      " 5   Promo                      41088 non-null  int64  \n",
      " 6   StateHoliday               41088 non-null  object \n",
      " 7   SchoolHoliday              41088 non-null  int64  \n",
      " 8   StoreType                  41088 non-null  object \n",
      " 9   Assortment                 41088 non-null  object \n",
      " 10  CompetitionDistance        40992 non-null  float64\n",
      " 11  CompetitionOpenSinceMonth  25872 non-null  float64\n",
      " 12  CompetitionOpenSinceYear   25872 non-null  float64\n",
      " 13  Promo2                     41088 non-null  int64  \n",
      " 14  Promo2SinceWeek            23856 non-null  float64\n",
      " 15  Promo2SinceYear            23856 non-null  float64\n",
      " 16  PromoInterval              23856 non-null  object \n",
      " 17  Sales                      41088 non-null  float64\n",
      "dtypes: float64(7), int64(6), object(5)\n",
      "memory usage: 5.6+ MB\n"
     ]
    }
   ],
   "source": [
    "merged_test_df.info()"
   ]
  },
  {
   "cell_type": "code",
   "execution_count": 42,
   "id": "2355e50d-71fc-40e2-907c-ee4f30f4a43f",
   "metadata": {},
   "outputs": [
    {
     "data": {
      "text/plain": [
       "np.int64(0)"
      ]
     },
     "execution_count": 42,
     "metadata": {},
     "output_type": "execute_result"
    }
   ],
   "source": [
    "merged_test_df.Sales.isna().sum()"
   ]
  },
  {
   "cell_type": "code",
   "execution_count": 43,
   "id": "d955b843-c6aa-452a-89f8-ca3fc0b8e0f6",
   "metadata": {},
   "outputs": [],
   "source": [
    "submission_df  = pd.read_csv('./rossmann-store-sales/sample_submission.csv')"
   ]
  },
  {
   "cell_type": "code",
   "execution_count": 44,
   "id": "72a9e3f4-719a-4e02-93bc-939041e9e49b",
   "metadata": {},
   "outputs": [],
   "source": [
    "submission_df['Sales'] = merged_test_df['Open'].fillna(1).astype('int') * test_preds"
   ]
  },
  {
   "cell_type": "code",
   "execution_count": 45,
   "id": "cc87c61d-b751-4bde-bdfd-bc026e16cc2c",
   "metadata": {},
   "outputs": [
    {
     "name": "stdout",
     "output_type": "stream",
     "text": [
      "<class 'pandas.core.frame.DataFrame'>\n",
      "RangeIndex: 41088 entries, 0 to 41087\n",
      "Data columns (total 2 columns):\n",
      " #   Column  Non-Null Count  Dtype  \n",
      "---  ------  --------------  -----  \n",
      " 0   Id      41088 non-null  int64  \n",
      " 1   Sales   41088 non-null  float64\n",
      "dtypes: float64(1), int64(1)\n",
      "memory usage: 642.1 KB\n"
     ]
    }
   ],
   "source": [
    "submission_df.info()"
   ]
  },
  {
   "cell_type": "code",
   "execution_count": 46,
   "id": "5f49a244-7a7c-4995-9d4c-0c4b0a527572",
   "metadata": {},
   "outputs": [
    {
     "data": {
      "text/plain": [
       "np.int64(0)"
      ]
     },
     "execution_count": 46,
     "metadata": {},
     "output_type": "execute_result"
    }
   ],
   "source": [
    "submission_df.Id.isna().sum()"
   ]
  },
  {
   "cell_type": "code",
   "execution_count": 47,
   "id": "f9692809-07cb-4a04-b165-7ed8615682b0",
   "metadata": {},
   "outputs": [
    {
     "data": {
      "text/plain": [
       "np.int64(0)"
      ]
     },
     "execution_count": 47,
     "metadata": {},
     "output_type": "execute_result"
    }
   ],
   "source": [
    "submission_df.Sales.isna().sum()"
   ]
  },
  {
   "cell_type": "code",
   "execution_count": 48,
   "id": "0adba8ce-70cf-4ebc-8dd3-92a37fd70d62",
   "metadata": {},
   "outputs": [
    {
     "data": {
      "text/plain": [
       "Sales\n",
       "0.000000        5984\n",
       "5752.128047        2\n",
       "6435.460581        2\n",
       "6134.553791        2\n",
       "4320.512224        1\n",
       "                ... \n",
       "10688.385202       1\n",
       "11179.136211       1\n",
       "9616.283850        1\n",
       "8075.648599        1\n",
       "9809.419919        1\n",
       "Name: count, Length: 35102, dtype: int64"
      ]
     },
     "execution_count": 48,
     "metadata": {},
     "output_type": "execute_result"
    }
   ],
   "source": [
    "submission_df.Sales.value_counts()"
   ]
  },
  {
   "cell_type": "code",
   "execution_count": 49,
   "id": "459500e4-ef82-4cea-aa4d-23e539743c7c",
   "metadata": {},
   "outputs": [],
   "source": [
    "submission_df.to_csv('submission.csv', index=None)"
   ]
  },
  {
   "cell_type": "code",
   "execution_count": 50,
   "id": "ad5a7332-7879-46a0-8e2e-bc7475b53136",
   "metadata": {},
   "outputs": [
    {
     "name": "stdout",
     "output_type": "stream",
     "text": [
      "Id,Sales\n",
      "1,6215.692545393203\n",
      "2,7058.591649752853\n",
      "3,11983.394158028179\n",
      "4,8954.46857321445\n",
      "5,10064.772361487443\n",
      "6,8300.930697283979\n",
      "7,15920.61362179487\n",
      "8,11169.767753771512\n",
      "9,8401.047211648953\n"
     ]
    }
   ],
   "source": [
    "!head submission.csv"
   ]
  },
  {
   "cell_type": "code",
   "execution_count": null,
   "id": "352fd872-5360-48a3-a6a4-def75f4262c3",
   "metadata": {},
   "outputs": [],
   "source": []
  }
 ],
 "metadata": {
  "kernelspec": {
   "display_name": "Python 3 (ipykernel)",
   "language": "python",
   "name": "python3"
  },
  "language_info": {
   "codemirror_mode": {
    "name": "ipython",
    "version": 3
   },
   "file_extension": ".py",
   "mimetype": "text/x-python",
   "name": "python",
   "nbconvert_exporter": "python",
   "pygments_lexer": "ipython3",
   "version": "3.11.9"
  }
 },
 "nbformat": 4,
 "nbformat_minor": 5
}
